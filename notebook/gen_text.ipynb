{
 "cells": [
  {
   "cell_type": "code",
   "execution_count": 1,
   "metadata": {},
   "outputs": [],
   "source": [
    "%load_ext autoreload\n",
    "%autoreload 2\n",
    "%matplotlib inline"
   ]
  },
  {
   "cell_type": "code",
   "execution_count": 2,
   "metadata": {},
   "outputs": [],
   "source": [
    "import sys"
   ]
  },
  {
   "cell_type": "code",
   "execution_count": 3,
   "metadata": {},
   "outputs": [],
   "source": [
    "project_path = '/datadisk2/qfeng/TextRecognitionDataGenerator'"
   ]
  },
  {
   "cell_type": "code",
   "execution_count": 4,
   "metadata": {},
   "outputs": [],
   "source": [
    "if project_path not in sys.path:\n",
    "    sys.path.append(project_path)"
   ]
  },
  {
   "cell_type": "code",
   "execution_count": 5,
   "metadata": {},
   "outputs": [
    {
     "name": "stdout",
     "output_type": "stream",
     "text": [
      "/datadisk2/qfeng/TextRecognitionDataGenerator\n"
     ]
    },
    {
     "data": {
      "text/plain": [
       "'/datadisk2/qfeng/TextRecognitionDataGenerator'"
      ]
     },
     "execution_count": 5,
     "metadata": {},
     "output_type": "execute_result"
    }
   ],
   "source": [
    "%cd $project_path\n",
    "%pwd"
   ]
  },
  {
   "cell_type": "code",
   "execution_count": 61,
   "metadata": {},
   "outputs": [],
   "source": [
    "from trdg.generators import GeneratorFromStrings"
   ]
  },
  {
   "cell_type": "code",
   "execution_count": 66,
   "metadata": {},
   "outputs": [],
   "source": [
    "generator = GeneratorFromStrings(\n",
    "    ['采购订单'],\n",
    "    fonts=['/datadisk2/qfeng/TextRecognitionDataGenerator/trdg/fonts/cn/SimSun.ttf']\n",
    ")"
   ]
  },
  {
   "cell_type": "code",
   "execution_count": 67,
   "metadata": {},
   "outputs": [],
   "source": [
    "img, lbl = next(generator)"
   ]
  },
  {
   "cell_type": "code",
   "execution_count": 68,
   "metadata": {},
   "outputs": [
    {
     "data": {
      "image/png": "[encoded data removed]",
      "text/plain": [
       "<PIL.Image.Image image mode=RGB size=100x32 at 0x7F845BFB4A58>"
      ]
     },
     "execution_count": 68,
     "metadata": {},
     "output_type": "execute_result"
    }
   ],
   "source": [
    "img"
   ]
  },
  {
   "cell_type": "code",
   "execution_count": 69,
   "metadata": {},
   "outputs": [
    {
     "data": {
      "text/plain": [
       "'采购订单'"
      ]
     },
     "execution_count": 69,
     "metadata": {},
     "output_type": "execute_result"
    }
   ],
   "source": [
    "lbl"
   ]
  },
  {
   "cell_type": "code",
   "execution_count": 70,
   "metadata": {},
   "outputs": [
    {
     "ename": "ValueError",
     "evalue": "attempted relative import beyond top-level package",
     "output_type": "error",
     "traceback": [
      "\u001b[0;31m---------------------------------------------------------------------------\u001b[0m",
      "\u001b[0;31mValueError\u001b[0m                                Traceback (most recent call last)",
      "\u001b[0;32m<ipython-input-70-2bcb2b047dde>\u001b[0m in \u001b[0;36m<module>\u001b[0;34m\u001b[0m\n\u001b[0;32m----> 1\u001b[0;31m \u001b[0;32mfrom\u001b[0m \u001b[0;34m.\u001b[0m\u001b[0;34m.\u001b[0m\u001b[0mdata_generator\u001b[0m \u001b[0;32mimport\u001b[0m \u001b[0mFakeTextDataGenerator\u001b[0m\u001b[0;34m\u001b[0m\u001b[0;34m\u001b[0m\u001b[0m\n\u001b[0m\u001b[1;32m      2\u001b[0m \u001b[0;32mfrom\u001b[0m \u001b[0;34m.\u001b[0m\u001b[0;34m.\u001b[0m\u001b[0mutils\u001b[0m \u001b[0;32mimport\u001b[0m \u001b[0mload_dict\u001b[0m\u001b[0;34m,\u001b[0m \u001b[0mload_fonts\u001b[0m\u001b[0;34m\u001b[0m\u001b[0;34m\u001b[0m\u001b[0m\n\u001b[1;32m      3\u001b[0m \u001b[0;34m\u001b[0m\u001b[0m\n\u001b[1;32m      4\u001b[0m \u001b[0;34m\u001b[0m\u001b[0m\n\u001b[1;32m      5\u001b[0m \u001b[0;32mclass\u001b[0m \u001b[0mGeneratorFromStrings\u001b[0m\u001b[0;34m:\u001b[0m\u001b[0;34m\u001b[0m\u001b[0;34m\u001b[0m\u001b[0m\n",
      "\u001b[0;31mValueError\u001b[0m: attempted relative import beyond top-level package"
     ]
    }
   ],
   "source": [
    "from ..data_generator import FakeTextDataGenerator\n",
    "from ..utils import load_dict, load_fonts\n",
    "\n",
    "\n",
    "class GeneratorFromStrings:\n",
    "    \"\"\"Generator that uses a given list of strings\"\"\"\n",
    "\n",
    "    def __init__(\n",
    "        self,\n",
    "        strings,\n",
    "        count=-1,\n",
    "        fonts=[],\n",
    "        language=\"en\",\n",
    "        size=32,\n",
    "        skewing_angle=0,\n",
    "        random_skew=False,\n",
    "        blur=0,\n",
    "        random_blur=False,\n",
    "        background_type=0,\n",
    "        distorsion_type=0,\n",
    "        distorsion_orientation=0,\n",
    "        is_handwritten=False,\n",
    "        width=-1,\n",
    "        alignment=1,\n",
    "        text_color=\"#282828\",\n",
    "        orientation=0,\n",
    "        space_width=1.0,\n",
    "        character_spacing=0,\n",
    "        margins=(5, 5, 5, 5),\n",
    "        fit=False,\n",
    "    ):\n",
    "        self.count = count\n",
    "        self.strings = strings\n",
    "        self.fonts = fonts\n",
    "        if len(fonts) == 0:\n",
    "            self.fonts = load_fonts(language)\n",
    "        self.language = language\n",
    "        self.size = size\n",
    "        self.skewing_angle = skewing_angle\n",
    "        self.random_skew = random_skew\n",
    "        self.blur = blur\n",
    "        self.random_blur = random_blur\n",
    "        self.background_type = background_type\n",
    "        self.distorsion_type = distorsion_type\n",
    "        self.distorsion_orientation = distorsion_orientation\n",
    "        self.is_handwritten = is_handwritten\n",
    "        self.width = width\n",
    "        self.alignment = alignment\n",
    "        self.text_color = text_color\n",
    "        self.orientation = orientation\n",
    "        self.space_width = space_width\n",
    "        self.character_spacing = character_spacing\n",
    "        self.margins = margins\n",
    "        self.fit = fit\n",
    "        self.generated_count = 0\n",
    "\n",
    "    def __iter__(self):\n",
    "        return self\n",
    "\n",
    "    def __next__(self):\n",
    "        return self.next()\n",
    "\n",
    "    def next(self):\n",
    "        if self.generated_count == self.count:\n",
    "            raise StopIteration\n",
    "        self.generated_count += 1        \n",
    "        return FakeTextDataGenerator.generate(\n",
    "            self.generated_count,\n",
    "            self.strings[(self.generated_count - 1) % len(self.strings)],\n",
    "            self.fonts[(self.generated_count - 1) % len(self.fonts)],\n",
    "            None,\n",
    "            self.size,\n",
    "            None,\n",
    "            self.skewing_angle,\n",
    "            self.random_skew,\n",
    "            self.blur,\n",
    "            self.random_blur,\n",
    "            self.background_type,\n",
    "            self.distorsion_type,\n",
    "            self.distorsion_orientation,\n",
    "            self.is_handwritten,\n",
    "            0,\n",
    "            self.width,\n",
    "            self.alignment,\n",
    "            self.text_color,\n",
    "            self.orientation,\n",
    "            self.space_width,\n",
    "            self.character_spacing,\n",
    "            self.margins,\n",
    "            self.fit,\n",
    "        ), self.strings[(self.generated_count - 1) % len(self.strings)]\n"
   ]
  },
  {
   "cell_type": "code",
   "execution_count": null,
   "metadata": {},
   "outputs": [],
   "source": []
  }
 ],
 "metadata": {
  "kernelspec": {
   "display_name": "Environment (conda_tensorflow)",
   "language": "python",
   "name": "conda_tensorflow"
  },
  "language_info": {
   "codemirror_mode": {
    "name": "ipython",
    "version": 3
   },
   "file_extension": ".py",
   "mimetype": "text/x-python",
   "name": "python",
   "nbconvert_exporter": "python",
   "pygments_lexer": "ipython3",
   "version": "3.6.7"
  },
  "nbTranslate": {
   "displayLangs": [
    "*"
   ],
   "hotkey": "alt-t",
   "langInMainMenu": true,
   "sourceLang": "en",
   "targetLang": "fr",
   "useGoogleTranslate": true
  },
  "toc": {
   "base_numbering": 1,
   "nav_menu": {},
   "number_sections": true,
   "sideBar": true,
   "skip_h1_title": false,
   "title_cell": "Table of Contents",
   "title_sidebar": "Contents",
   "toc_cell": false,
   "toc_position": {},
   "toc_section_display": true,
   "toc_window_display": false
  }
 },
 "nbformat": 4,
 "nbformat_minor": 2
}
