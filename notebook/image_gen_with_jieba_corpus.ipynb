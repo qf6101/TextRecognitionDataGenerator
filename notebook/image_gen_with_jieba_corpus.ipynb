{
 "cells": [
  {
   "cell_type": "code",
   "execution_count": 144,
   "metadata": {},
   "outputs": [
    {
     "name": "stdout",
     "output_type": "stream",
     "text": [
      "The autoreload extension is already loaded. To reload it, use:\n",
      "  %reload_ext autoreload\n"
     ]
    }
   ],
   "source": [
    "%load_ext autoreload\n",
    "%autoreload 2\n",
    "%matplotlib inline"
   ]
  },
  {
   "cell_type": "code",
   "execution_count": 145,
   "metadata": {},
   "outputs": [],
   "source": [
    "import sys\n",
    "from pathlib import Path\n",
    "import json\n",
    "import random\n",
    "import re\n",
    "import uuid\n",
    "import shutil\n",
    "import os\n",
    "from functools import partial\n",
    "from concurrent.futures import ProcessPoolExecutor, ThreadPoolExecutor\n",
    "\n",
    "random.seed()"
   ]
  },
  {
   "cell_type": "code",
   "execution_count": 146,
   "metadata": {},
   "outputs": [
    {
     "name": "stdout",
     "output_type": "stream",
     "text": [
      "/datadisk2/qfeng/TextRecognitionDataGenerator\n"
     ]
    },
    {
     "data": {
      "text/plain": [
       "'/datadisk2/qfeng/TextRecognitionDataGenerator'"
      ]
     },
     "execution_count": 146,
     "metadata": {},
     "output_type": "execute_result"
    }
   ],
   "source": [
    "project_path = '/datadisk2/qfeng/TextRecognitionDataGenerator'\n",
    "\n",
    "if project_path not in sys.path:\n",
    "    sys.path.append(project_path)\n",
    "    \n",
    "%cd $project_path\n",
    "%pwd"
   ]
  },
  {
   "cell_type": "markdown",
   "metadata": {},
   "source": [
    "**1. Set the parameters: input corpus directory and output image directory**"
   ]
  },
  {
   "cell_type": "code",
   "execution_count": 147,
   "metadata": {},
   "outputs": [],
   "source": [
    "font_file = '/datadisk2/qfeng/TextRecognitionDataGenerator/trdg/fonts/cn/仿宋GB2312.ttf'\n",
    "font = 'fangsong'\n",
    "word_len = 15\n",
    "\n",
    "if word_len == 5:\n",
    "    width = 160\n",
    "elif word_len == 10:\n",
    "    width = 320\n",
    "elif word_len == 15:\n",
    "    width = 480\n",
    "else:\n",
    "    raise Error('Wrong word_len')\n",
    "\n",
    "inp_dir = Path('/datadisk2/qfeng/ocr_synthesis/jieba_texts/{}_lens'.format(word_len))\n",
    "outp_path = Path('/datadisk2/qfeng/ocr_synthesis/jieba_outp/{}_lens/{}'.format(word_len, font))\n",
    "\n",
    "if outp_path.exists():\n",
    "    shutil.rmtree(str(outp_path))\n",
    "outp_path.mkdir()"
   ]
  },
  {
   "cell_type": "code",
   "execution_count": 148,
   "metadata": {},
   "outputs": [
    {
     "data": {
      "text/plain": [
       "2000000"
      ]
     },
     "execution_count": 148,
     "metadata": {},
     "output_type": "execute_result"
    }
   ],
   "source": [
    "inp_texts = []\n",
    "\n",
    "for p in inp_dir.glob('*'):\n",
    "    with open(str(p), 'r') as f:        \n",
    "        for line in f.readlines():\n",
    "            inp_texts.append(line.strip('\\n'))\n",
    "            \n",
    "len(inp_texts)"
   ]
  },
  {
   "cell_type": "code",
   "execution_count": 149,
   "metadata": {},
   "outputs": [
    {
     "data": {
      "text/plain": [
       "['决特别搜索是初期管理追到不能由',\n",
       " '开始自行建筑折服封建后投感到就',\n",
       " '德国的军随角度四十八化学的英国',\n",
       " '可公告打招呼在伤口小对增加系统',\n",
       " '自挨着惨变个这过去奴隶你坐在街',\n",
       " '对比这就力量老者墓历国家的爷味',\n",
       " '的在礼部整体之出均的便于的离馅',\n",
       " '是佛公布想其余鲁迅没有我国森林',\n",
       " '清来站新疆文明们工作到四川困时',\n",
       " '绝对是等分钟作为计划了黄自治区']"
      ]
     },
     "execution_count": 149,
     "metadata": {},
     "output_type": "execute_result"
    }
   ],
   "source": [
    "inp_texts[:10]"
   ]
  },
  {
   "cell_type": "code",
   "execution_count": 150,
   "metadata": {},
   "outputs": [],
   "source": [
    "from trdg.generators import CompoundGenerator\n",
    "from collections import namedtuple"
   ]
  },
  {
   "cell_type": "markdown",
   "metadata": {},
   "source": [
    "**2. Set the parameters: fix configurations**"
   ]
  },
  {
   "cell_type": "code",
   "execution_count": 151,
   "metadata": {},
   "outputs": [],
   "source": [
    "conf = namedtuple('Conf', ['width', 'background_type', 'fit', 'line_margin', 'skewing_angle', 'random_skew', 'box_skewing_angle', 'box_random_skew', 'size'])\n",
    "conf.size = 32\n",
    "conf.background_type = 1\n",
    "conf.fit = True\n",
    "conf.line_margin = 0\n",
    "conf.skewing_angle = 1\n",
    "conf.random_skew = True\n",
    "conf.box_skewing_angle = 1\n",
    "conf.box_random_skew = True"
   ]
  },
  {
   "cell_type": "code",
   "execution_count": 152,
   "metadata": {},
   "outputs": [],
   "source": [
    "generator = CompoundGenerator(conf=conf, width=width)"
   ]
  },
  {
   "cell_type": "markdown",
   "metadata": {},
   "source": [
    "**3. Set the parameters: random configurations**"
   ]
  },
  {
   "cell_type": "code",
   "execution_count": 153,
   "metadata": {},
   "outputs": [],
   "source": [
    "def gen_image(text):    \n",
    "    args = namedtuple('Args', ['font', 'texts', 'bold', 'box_margins', 'box_lines', 'alignment'])\n",
    "    n_texts = 1\n",
    "    args.texts = [text]   \n",
    "    args.font = font_file\n",
    "    args.bold = False\n",
    "    args.box_margins = (0, 0)\n",
    "    args.box_lines = [random.randint(0,1), random.randint(0,1), random.randint(0,1), random.randint(0,1)]\n",
    "    args.alignment = random.randint(0, 1)\n",
    "    args.draw_box = False\n",
    "    img, img_locs = generator.gen(args)\n",
    "    return img, img_locs, args.texts"
   ]
  },
  {
   "cell_type": "code",
   "execution_count": 154,
   "metadata": {},
   "outputs": [
    {
     "name": "stdout",
     "output_type": "stream",
     "text": [
      "(480, 32)\n"
     ]
    },
    {
     "data": {
      "image/png": "[encoded data removed]",
      "text/plain": [
       "<PIL.Image.Image image mode=RGBA size=480x32 at 0x7FA0F98FCEF0>"
      ]
     },
     "execution_count": 154,
     "metadata": {},
     "output_type": "execute_result"
    }
   ],
   "source": [
    "# Test generating one image\n",
    "img, img_locs, c = gen_image(inp_texts[0])\n",
    "print(img.size)\n",
    "img"
   ]
  },
  {
   "cell_type": "code",
   "execution_count": 155,
   "metadata": {},
   "outputs": [],
   "source": [
    "def save_generated(tag, inp_texts, font):\n",
    "    gt_dname = outp_path/(tag + '_gt')\n",
    "    img_dname = outp_path/(tag + '_img')\n",
    "   \n",
    "    if gt_dname.exists():\n",
    "        shutil.rmtree(str(gt_dname))\n",
    "    gt_dname.mkdir()\n",
    "        \n",
    "    if img_dname.exists():\n",
    "        shutil.rmtree(str(img_dname))\n",
    "    img_dname.mkdir()\n",
    "    \n",
    "    for t in inp_texts:\n",
    "        img, img_locs, contents = gen_image(t)\n",
    "        name = str(uuid.uuid4())\n",
    "        img.save(str((img_dname/(name + '.png'))))\n",
    "        \n",
    "        with open(str(gt_dname/(name + '.txt')), 'w') as f:            \n",
    "            for c, loc in zip(contents, img_locs):\n",
    "                line = []\n",
    "                for i_ in loc:\n",
    "                    line.append(str(round(i_[0], 2)))\n",
    "                    line.append(str(round(i_[1], 2)))\n",
    "                line.append('\"' + c + '\"')\n",
    "                line.append(font)\n",
    "                f.write(','.join(line) + '\\n')\n",
    "                \n",
    "\n",
    "def parallel_save(tag, inp, n_splits, font, n_workers):\n",
    "    \"\"\"\n",
    "    Will generate 2 * n_splits folders (half images and half labels).\n",
    "    Each folder has bs images or labels.\n",
    "    \"\"\"\n",
    "    with ProcessPoolExecutor(max_workers=n_workers) as ex:\n",
    "        func = partial(save_generated, font=font)\n",
    "        step = len(inp)//n_splits\n",
    "        splits = list(range(0, len(inp), step))\n",
    "        for i in range(1, len(splits)):\n",
    "            print(splits[i-1], splits[i])\n",
    "            ex.submit(func, tag + '_' + str(i), inp[splits[i-1]:splits[i]])"
   ]
  },
  {
   "cell_type": "code",
   "execution_count": 156,
   "metadata": {},
   "outputs": [
    {
     "name": "stdout",
     "output_type": "stream",
     "text": [
      "0 10000\n",
      "10000 20000\n",
      "20000 30000\n",
      "30000 40000\n",
      "40000 50000\n",
      "50000 60000\n",
      "60000 70000\n",
      "70000 80000\n",
      "80000 90000\n",
      "90000 100000\n",
      "100000 110000\n",
      "110000 120000\n",
      "120000 130000\n",
      "130000 140000\n",
      "140000 150000\n",
      "150000 160000\n",
      "160000 170000\n",
      "170000 180000\n",
      "180000 190000\n",
      "190000 200000\n",
      "200000 210000\n",
      "210000 220000\n",
      "220000 230000\n",
      "230000 240000\n",
      "240000 250000\n",
      "250000 260000\n",
      "260000 270000\n",
      "270000 280000\n",
      "280000 290000\n",
      "290000 300000\n",
      "300000 310000\n",
      "310000 320000\n",
      "320000 330000\n",
      "330000 340000\n",
      "340000 350000\n",
      "350000 360000\n",
      "360000 370000\n",
      "370000 380000\n",
      "380000 390000\n",
      "390000 400000\n",
      "400000 410000\n",
      "410000 420000\n",
      "420000 430000\n",
      "430000 440000\n",
      "440000 450000\n",
      "450000 460000\n",
      "460000 470000\n",
      "470000 480000\n",
      "480000 490000\n",
      "490000 500000\n",
      "500000 510000\n",
      "510000 520000\n",
      "520000 530000\n",
      "530000 540000\n",
      "540000 550000\n",
      "550000 560000\n",
      "560000 570000\n",
      "570000 580000\n",
      "580000 590000\n",
      "590000 600000\n",
      "600000 610000\n",
      "610000 620000\n",
      "620000 630000\n",
      "630000 640000\n",
      "640000 650000\n",
      "650000 660000\n",
      "660000 670000\n",
      "670000 680000\n",
      "680000 690000\n",
      "690000 700000\n",
      "700000 710000\n",
      "710000 720000\n",
      "720000 730000\n",
      "730000 740000\n",
      "740000 750000\n",
      "750000 760000\n",
      "760000 770000\n",
      "770000 780000\n",
      "780000 790000\n",
      "790000 800000\n",
      "800000 810000\n",
      "810000 820000\n",
      "820000 830000\n",
      "830000 840000\n",
      "840000 850000\n",
      "850000 860000\n",
      "860000 870000\n",
      "870000 880000\n",
      "880000 890000\n",
      "890000 900000\n",
      "900000 910000\n",
      "910000 920000\n",
      "920000 930000\n",
      "930000 940000\n",
      "940000 950000\n",
      "950000 960000\n",
      "960000 970000\n",
      "970000 980000\n",
      "980000 990000\n",
      "990000 1000000\n",
      "1000000 1010000\n",
      "1010000 1020000\n",
      "1020000 1030000\n",
      "1030000 1040000\n",
      "1040000 1050000\n",
      "1050000 1060000\n",
      "1060000 1070000\n",
      "1070000 1080000\n",
      "1080000 1090000\n",
      "1090000 1100000\n",
      "1100000 1110000\n",
      "1110000 1120000\n",
      "1120000 1130000\n",
      "1130000 1140000\n",
      "1140000 1150000\n",
      "1150000 1160000\n",
      "1160000 1170000\n",
      "1170000 1180000\n",
      "1180000 1190000\n",
      "1190000 1200000\n",
      "1200000 1210000\n",
      "1210000 1220000\n",
      "1220000 1230000\n",
      "1230000 1240000\n",
      "1240000 1250000\n",
      "1250000 1260000\n",
      "1260000 1270000\n",
      "1270000 1280000\n",
      "1280000 1290000\n",
      "1290000 1300000\n",
      "1300000 1310000\n",
      "1310000 1320000\n",
      "1320000 1330000\n",
      "1330000 1340000\n",
      "1340000 1350000\n",
      "1350000 1360000\n",
      "1360000 1370000\n",
      "1370000 1380000\n",
      "1380000 1390000\n",
      "1390000 1400000\n",
      "1400000 1410000\n",
      "1410000 1420000\n",
      "1420000 1430000\n",
      "1430000 1440000\n",
      "1440000 1450000\n",
      "1450000 1460000\n",
      "1460000 1470000\n",
      "1470000 1480000\n",
      "1480000 1490000\n",
      "1490000 1500000\n",
      "1500000 1510000\n",
      "1510000 1520000\n",
      "1520000 1530000\n",
      "1530000 1540000\n",
      "1540000 1550000\n",
      "1550000 1560000\n",
      "1560000 1570000\n",
      "1570000 1580000\n",
      "1580000 1590000\n",
      "1590000 1600000\n",
      "1600000 1610000\n",
      "1610000 1620000\n",
      "1620000 1630000\n",
      "1630000 1640000\n",
      "1640000 1650000\n",
      "1650000 1660000\n",
      "1660000 1670000\n",
      "1670000 1680000\n",
      "1680000 1690000\n",
      "1690000 1700000\n",
      "1700000 1710000\n",
      "1710000 1720000\n",
      "1720000 1730000\n",
      "1730000 1740000\n",
      "1740000 1750000\n",
      "1750000 1760000\n",
      "1760000 1770000\n",
      "1770000 1780000\n",
      "1780000 1790000\n",
      "1790000 1800000\n",
      "1800000 1810000\n",
      "1810000 1820000\n",
      "1820000 1830000\n",
      "1830000 1840000\n",
      "1840000 1850000\n",
      "1850000 1860000\n",
      "1860000 1870000\n",
      "1870000 1880000\n",
      "1880000 1890000\n",
      "1890000 1900000\n",
      "1900000 1910000\n",
      "1910000 1920000\n",
      "1920000 1930000\n",
      "1930000 1940000\n",
      "1940000 1950000\n",
      "1950000 1960000\n",
      "1960000 1970000\n",
      "1970000 1980000\n",
      "1980000 1990000\n"
     ]
    }
   ],
   "source": [
    "n_splits = 200\n",
    "n_workers = n_splits//2 if n_splits > 100 else 50\n",
    "parallel_save(tag='{}_lens_{}'.format(word_len, font), inp=inp_texts, n_splits=n_splits, font=font, n_workers=n_workers)"
   ]
  },
  {
   "cell_type": "code",
   "execution_count": null,
   "metadata": {},
   "outputs": [],
   "source": []
  },
  {
   "cell_type": "code",
   "execution_count": null,
   "metadata": {},
   "outputs": [],
   "source": []
  },
  {
   "cell_type": "code",
   "execution_count": null,
   "metadata": {},
   "outputs": [],
   "source": []
  }
 ],
 "metadata": {
  "kernelspec": {
   "display_name": "Environment (conda_snorkel)",
   "language": "python",
   "name": "conda_snorkel"
  },
  "language_info": {
   "codemirror_mode": {
    "name": "ipython",
    "version": 3
   },
   "file_extension": ".py",
   "mimetype": "text/x-python",
   "name": "python",
   "nbconvert_exporter": "python",
   "pygments_lexer": "ipython3",
   "version": "3.6.7"
  },
  "nbTranslate": {
   "displayLangs": [
    "*"
   ],
   "hotkey": "alt-t",
   "langInMainMenu": true,
   "sourceLang": "en",
   "targetLang": "fr",
   "useGoogleTranslate": true
  },
  "toc": {
   "base_numbering": 1,
   "nav_menu": {},
   "number_sections": true,
   "sideBar": true,
   "skip_h1_title": false,
   "title_cell": "Table of Contents",
   "title_sidebar": "Contents",
   "toc_cell": false,
   "toc_position": {},
   "toc_section_display": true,
   "toc_window_display": false
  }
 },
 "nbformat": 4,
 "nbformat_minor": 2
}
