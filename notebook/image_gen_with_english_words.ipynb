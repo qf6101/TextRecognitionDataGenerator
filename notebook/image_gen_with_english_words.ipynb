{
 "cells": [
  {
   "cell_type": "code",
   "execution_count": 66,
   "metadata": {},
   "outputs": [
    {
     "name": "stdout",
     "output_type": "stream",
     "text": [
      "The autoreload extension is already loaded. To reload it, use:\n",
      "  %reload_ext autoreload\n"
     ]
    }
   ],
   "source": [
    "%load_ext autoreload\n",
    "%autoreload 2\n",
    "%matplotlib inline"
   ]
  },
  {
   "cell_type": "code",
   "execution_count": 67,
   "metadata": {},
   "outputs": [],
   "source": [
    "import sys\n",
    "from pathlib import Path\n",
    "import json\n",
    "import random\n",
    "import re\n",
    "import uuid\n",
    "import shutil\n",
    "import os\n",
    "from functools import partial\n",
    "from concurrent.futures import ProcessPoolExecutor, ThreadPoolExecutor\n",
    "\n",
    "random.seed()"
   ]
  },
  {
   "cell_type": "code",
   "execution_count": 68,
   "metadata": {},
   "outputs": [
    {
     "name": "stdout",
     "output_type": "stream",
     "text": [
      "/datadisk2/qfeng/TextRecognitionDataGenerator\n"
     ]
    },
    {
     "data": {
      "text/plain": [
       "'/datadisk2/qfeng/TextRecognitionDataGenerator'"
      ]
     },
     "execution_count": 68,
     "metadata": {},
     "output_type": "execute_result"
    }
   ],
   "source": [
    "project_path = '/datadisk2/qfeng/TextRecognitionDataGenerator'\n",
    "\n",
    "if project_path not in sys.path:\n",
    "    sys.path.append(project_path)\n",
    "    \n",
    "%cd $project_path\n",
    "%pwd"
   ]
  },
  {
   "cell_type": "markdown",
   "metadata": {},
   "source": [
    "**1. Set the parameters: input corpus directory and output image directory**"
   ]
  },
  {
   "cell_type": "code",
   "execution_count": 87,
   "metadata": {},
   "outputs": [],
   "source": [
    "font_file = '/datadisk2/qfeng/TextRecognitionDataGenerator/trdg/fonts/cn/方正隶书GBK.ttf'\n",
    "font = 'lishu'\n",
    "\n",
    "inp_dir = Path('/datadisk2/qfeng/ocr_synthesis/english_texts')\n",
    "outp_path = Path('/datadisk2/qfeng/ocr_synthesis/english_outp/{}'.format(font))\n",
    "\n",
    "if outp_path.exists():\n",
    "    shutil.rmtree(str(outp_path))\n",
    "outp_path.mkdir()"
   ]
  },
  {
   "cell_type": "code",
   "execution_count": 88,
   "metadata": {},
   "outputs": [
    {
     "data": {
      "text/plain": [
       "130800"
      ]
     },
     "execution_count": 88,
     "metadata": {},
     "output_type": "execute_result"
    }
   ],
   "source": [
    "inp_texts = []\n",
    "\n",
    "for p in inp_dir.glob('*'):\n",
    "    with open(str(p), 'r') as f:        \n",
    "        for line in f.readlines():\n",
    "            inp_texts.append(line.strip('\\n'))\n",
    "            \n",
    "len(inp_texts)"
   ]
  },
  {
   "cell_type": "code",
   "execution_count": 89,
   "metadata": {},
   "outputs": [],
   "source": [
    "from trdg.generators import CompoundGenerator\n",
    "from collections import namedtuple"
   ]
  },
  {
   "cell_type": "markdown",
   "metadata": {},
   "source": [
    "**2. Set the parameters: fix configurations**"
   ]
  },
  {
   "cell_type": "code",
   "execution_count": 90,
   "metadata": {},
   "outputs": [],
   "source": [
    "conf = namedtuple('Conf', ['width', 'background_type', 'fit', 'line_margin', 'skewing_angle', 'random_skew', 'box_skewing_angle', 'box_random_skew', 'size'])\n",
    "conf.size = 32\n",
    "conf.background_type = 1\n",
    "conf.fit = True\n",
    "conf.line_margin = 0\n",
    "conf.skewing_angle = 1\n",
    "conf.random_skew = True\n",
    "conf.box_skewing_angle = 1\n",
    "conf.box_random_skew = True"
   ]
  },
  {
   "cell_type": "code",
   "execution_count": 91,
   "metadata": {},
   "outputs": [],
   "source": [
    "generator = CompoundGenerator(conf=conf, width=320)"
   ]
  },
  {
   "cell_type": "markdown",
   "metadata": {},
   "source": [
    "**3. Set the parameters: random configurations**"
   ]
  },
  {
   "cell_type": "code",
   "execution_count": 92,
   "metadata": {},
   "outputs": [],
   "source": [
    "def gen_image(text):    \n",
    "    args = namedtuple('Args', ['font', 'texts', 'bold', 'box_margins', 'box_lines', 'alignment'])\n",
    "    n_texts = 1\n",
    "    args.texts = [text]   \n",
    "    args.font = font_file\n",
    "    args.bold = False\n",
    "    args.box_margins = (0, 0)\n",
    "    args.box_lines = [random.randint(0,1), random.randint(0,1), random.randint(0,1), random.randint(0,1)]\n",
    "    args.alignment = random.randint(0, 1)\n",
    "    args.draw_box = False\n",
    "    img, img_locs = generator.gen(args)\n",
    "    return img, img_locs, args.texts"
   ]
  },
  {
   "cell_type": "code",
   "execution_count": 93,
   "metadata": {},
   "outputs": [
    {
     "name": "stdout",
     "output_type": "stream",
     "text": [
      "(322, 38)\n"
     ]
    },
    {
     "data": {
      "image/png": "[encoded data removed]",
      "text/plain": [
       "<PIL.Image.Image image mode=RGBA size=322x38 at 0x7F0FC0A01D68>"
      ]
     },
     "execution_count": 93,
     "metadata": {},
     "output_type": "execute_result"
    }
   ],
   "source": [
    "# Test generating one image\n",
    "img, img_locs, c = gen_image(inp_texts[1])\n",
    "print(img.size)\n",
    "img"
   ]
  },
  {
   "cell_type": "code",
   "execution_count": 94,
   "metadata": {},
   "outputs": [],
   "source": [
    "def save_generated(tag, inp_texts, font):\n",
    "    gt_dname = outp_path/(tag + '_gt')\n",
    "    img_dname = outp_path/(tag + '_img')\n",
    "   \n",
    "    if gt_dname.exists():\n",
    "        shutil.rmtree(str(gt_dname))\n",
    "    gt_dname.mkdir()\n",
    "        \n",
    "    if img_dname.exists():\n",
    "        shutil.rmtree(str(img_dname))\n",
    "    img_dname.mkdir()\n",
    "    \n",
    "    for t in inp_texts:\n",
    "        img, img_locs, contents = gen_image(t)\n",
    "        name = str(uuid.uuid4())\n",
    "        img.save(str((img_dname/(name + '.png'))))\n",
    "        \n",
    "        with open(str(gt_dname/(name + '.txt')), 'w') as f:            \n",
    "            for c, loc in zip(contents, img_locs):\n",
    "                line = []\n",
    "                for i_ in loc:\n",
    "                    line.append(str(round(i_[0], 2)))\n",
    "                    line.append(str(round(i_[1], 2)))\n",
    "                line.append('\"' + c + '\"')\n",
    "                line.append(font)\n",
    "                f.write(','.join(line) + '\\n')\n",
    "                \n",
    "\n",
    "def parallel_save(tag, inp, n_splits, font, n_workers):\n",
    "    \"\"\"\n",
    "    Will generate 2 * n_splits folders (half images and half labels).\n",
    "    Each folder has bs images or labels.\n",
    "    \"\"\"\n",
    "    with ProcessPoolExecutor(max_workers=n_workers) as ex:\n",
    "        func = partial(save_generated, font=font)\n",
    "        step = len(inp)//n_splits\n",
    "        splits = list(range(0, len(inp), step))\n",
    "        for i in range(1, len(splits)):\n",
    "            print(splits[i-1], splits[i])\n",
    "            ex.submit(func, tag + '_' + str(i), inp[splits[i-1]:splits[i]])"
   ]
  },
  {
   "cell_type": "code",
   "execution_count": 95,
   "metadata": {},
   "outputs": [
    {
     "name": "stdout",
     "output_type": "stream",
     "text": [
      "0 6540\n",
      "6540 13080\n",
      "13080 19620\n",
      "19620 26160\n",
      "26160 32700\n",
      "32700 39240\n",
      "39240 45780\n",
      "45780 52320\n",
      "52320 58860\n",
      "58860 65400\n",
      "65400 71940\n",
      "71940 78480\n",
      "78480 85020\n",
      "85020 91560\n",
      "91560 98100\n",
      "98100 104640\n",
      "104640 111180\n",
      "111180 117720\n",
      "117720 124260\n"
     ]
    }
   ],
   "source": [
    "parallel_save(tag='{}'.format(font), inp=inp_texts, n_splits=20, font=font, n_workers=40)"
   ]
  },
  {
   "cell_type": "code",
   "execution_count": null,
   "metadata": {},
   "outputs": [],
   "source": []
  },
  {
   "cell_type": "code",
   "execution_count": null,
   "metadata": {},
   "outputs": [],
   "source": []
  },
  {
   "cell_type": "code",
   "execution_count": null,
   "metadata": {},
   "outputs": [],
   "source": []
  }
 ],
 "metadata": {
  "kernelspec": {
   "display_name": "Environment (conda_snorkel)",
   "language": "python",
   "name": "conda_snorkel"
  },
  "language_info": {
   "codemirror_mode": {
    "name": "ipython",
    "version": 3
   },
   "file_extension": ".py",
   "mimetype": "text/x-python",
   "name": "python",
   "nbconvert_exporter": "python",
   "pygments_lexer": "ipython3",
   "version": "3.6.7"
  },
  "nbTranslate": {
   "displayLangs": [
    "*"
   ],
   "hotkey": "alt-t",
   "langInMainMenu": true,
   "sourceLang": "en",
   "targetLang": "fr",
   "useGoogleTranslate": true
  },
  "toc": {
   "base_numbering": 1,
   "nav_menu": {},
   "number_sections": true,
   "sideBar": true,
   "skip_h1_title": false,
   "title_cell": "Table of Contents",
   "title_sidebar": "Contents",
   "toc_cell": false,
   "toc_position": {},
   "toc_section_display": true,
   "toc_window_display": false
  }
 },
 "nbformat": 4,
 "nbformat_minor": 2
}
