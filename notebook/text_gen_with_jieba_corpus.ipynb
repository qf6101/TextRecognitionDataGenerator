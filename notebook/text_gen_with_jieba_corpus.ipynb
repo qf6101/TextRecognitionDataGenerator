{
 "cells": [
  {
   "cell_type": "code",
   "execution_count": 1,
   "metadata": {},
   "outputs": [],
   "source": [
    "%load_ext autoreload\n",
    "%autoreload 2\n",
    "%matplotlib inline"
   ]
  },
  {
   "cell_type": "code",
   "execution_count": 2,
   "metadata": {},
   "outputs": [],
   "source": [
    "import sys\n",
    "from pathlib import Path\n",
    "import json\n",
    "import random\n",
    "import re\n",
    "import uuid\n",
    "import shutil\n",
    "import os\n",
    "from functools import partial\n",
    "from concurrent.futures import ProcessPoolExecutor, ThreadPoolExecutor\n",
    "\n",
    "random.seed()"
   ]
  },
  {
   "cell_type": "markdown",
   "metadata": {},
   "source": [
    "**Load vocaburay from tencent's word embedding file**"
   ]
  },
  {
   "cell_type": "code",
   "execution_count": 35,
   "metadata": {},
   "outputs": [
    {
     "data": {
      "text/plain": [
       "(8825659, 22781)"
      ]
     },
     "execution_count": 35,
     "metadata": {},
     "output_type": "execute_result"
    }
   ],
   "source": [
    "# with open('/home/shizai/qfeng/Tencent_AILab_ChineseEmbedding.txt', 'r', errors='ignore') as f:\n",
    "#     tencent_words = [line.strip('\\n').split(' ')[0] for line in f.readlines()]\n",
    "    \n",
    "# tencent_chars = list(set(c for w in tencent_words for c in w))\n",
    "# len(tencent_words), len(tencent_chars)"
   ]
  },
  {
   "cell_type": "code",
   "execution_count": 36,
   "metadata": {},
   "outputs": [
    {
     "data": {
      "text/plain": [
       "['8825658', '</s>', '的', '。', ',', '了', '、', '“', '”', '是']"
      ]
     },
     "execution_count": 36,
     "metadata": {},
     "output_type": "execute_result"
    }
   ],
   "source": [
    "# tencent_words[:10]"
   ]
  },
  {
   "cell_type": "code",
   "execution_count": 37,
   "metadata": {},
   "outputs": [
    {
     "data": {
      "text/plain": [
       "['赐', '筂', '鳤', '糷', '炅', '笅', '鸡', '逹', '嵢', '梯']"
      ]
     },
     "execution_count": 37,
     "metadata": {},
     "output_type": "execute_result"
    }
   ],
   "source": [
    "# tencent_chars[:10]"
   ]
  },
  {
   "cell_type": "markdown",
   "metadata": {},
   "source": [
    "**Load vocabury from jieba's dictionary file**"
   ]
  },
  {
   "cell_type": "code",
   "execution_count": 193,
   "metadata": {},
   "outputs": [],
   "source": [
    "jieba_words = []\n",
    "\n",
    "with open('/datadisk2/qfeng/jieba/extra_dict/dict.txt.small', 'r') as f:\n",
    "    for line in f.readlines():\n",
    "        word_unit = line.strip('\\n').split(' ')        \n",
    "        jieba_words.append(word_unit)\n",
    "\n",
    "jieba_chars = list(set(c for w in jieba_words for c in w[0]))"
   ]
  },
  {
   "cell_type": "code",
   "execution_count": 194,
   "metadata": {},
   "outputs": [
    {
     "data": {
      "text/plain": [
       "(109750, 8939)"
      ]
     },
     "execution_count": 194,
     "metadata": {},
     "output_type": "execute_result"
    }
   ],
   "source": [
    "len(jieba_words), len(jieba_chars)"
   ]
  },
  {
   "cell_type": "code",
   "execution_count": 195,
   "metadata": {},
   "outputs": [
    {
     "data": {
      "text/plain": [
       "[['的', '3188252', 'uj'],\n",
       " ['了', '883634', 'ul'],\n",
       " ['是', '796991', 'v'],\n",
       " ['在', '727915', 'p'],\n",
       " ['和', '555815', 'c'],\n",
       " ['有', '423765', 'v'],\n",
       " ['他', '401339', 'r'],\n",
       " ['不', '360331', 'd'],\n",
       " ['我', '328841', 'r'],\n",
       " ['人', '313209', 'n']]"
      ]
     },
     "execution_count": 195,
     "metadata": {},
     "output_type": "execute_result"
    }
   ],
   "source": [
    "jieba_words[:10]"
   ]
  },
  {
   "cell_type": "code",
   "execution_count": 196,
   "metadata": {},
   "outputs": [
    {
     "data": {
      "text/plain": [
       "['殂', '赐', '鎰', '姞', '物', '纨', '炅', '笅', '玁', '颔']"
      ]
     },
     "execution_count": 196,
     "metadata": {},
     "output_type": "execute_result"
    }
   ],
   "source": [
    "jieba_chars[:10]"
   ]
  },
  {
   "cell_type": "code",
   "execution_count": 197,
   "metadata": {},
   "outputs": [],
   "source": [
    "jieba_word_freq_sum = sum([int(w[1]) for w in jieba_words])\n",
    "jieba_pure_words = [w[0] for w in jieba_words]\n",
    "jieba_word_freq_pcts = [int(w[1])/word_freq_sum for w in jieba_words]"
   ]
  },
  {
   "cell_type": "markdown",
   "metadata": {},
   "source": [
    "**Generate from jieba vocabulary**"
   ]
  },
  {
   "cell_type": "code",
   "execution_count": null,
   "metadata": {},
   "outputs": [],
   "source": [
    "outp_path = '/datadisk2/qfeng/ocr_synthesis/jieba_texts'"
   ]
  },
  {
   "cell_type": "code",
   "execution_count": 202,
   "metadata": {},
   "outputs": [],
   "source": [
    "import random\n",
    "import bisect\n",
    "import collections\n",
    "\n",
    "def cdf(weights):\n",
    "    total = sum(weights)\n",
    "    result = []\n",
    "    cumsum = 0\n",
    "    for w in weights:\n",
    "        cumsum += w\n",
    "        result.append(cumsum / total)\n",
    "    return result\n",
    "\n",
    "def choice(population, weights):\n",
    "    assert len(population) == len(weights)\n",
    "    cdf_vals = cdf(weights)\n",
    "    x = random.random()\n",
    "    idx = bisect.bisect(cdf_vals, x)\n",
    "    return population[idx]"
   ]
  },
  {
   "cell_type": "code",
   "execution_count": 208,
   "metadata": {},
   "outputs": [
    {
     "data": {
      "text/plain": [
       "'刘宗周'"
      ]
     },
     "execution_count": 208,
     "metadata": {},
     "output_type": "execute_result"
    }
   ],
   "source": [
    "choice(jieba_pure_words, jieba_word_freq_pcts)"
   ]
  },
  {
   "cell_type": "code",
   "execution_count": 228,
   "metadata": {},
   "outputs": [],
   "source": [
    "# def gen_texts(words, freq_pcts, min_len, max_len, n_outp_words):\n",
    "#     outp = []\n",
    "#     while len(outp) < n_outp_words :\n",
    "#         text = ''\n",
    "#         while len(text) < min_len:\n",
    "#             choiced = choice(words, freq_pcts).strip()\n",
    "#             text = text + choiced\n",
    "#         if len(text) <= max_len:\n",
    "#             outp.append(text)\n",
    "#     return outp\n",
    "\n",
    "# gen_texts(jieba_pure_words, jieba_word_freq_pcts, min_len=5, max_len=5, n_outp_words=10)"
   ]
  },
  {
   "cell_type": "code",
   "execution_count": 246,
   "metadata": {},
   "outputs": [],
   "source": [
    "def next_text(words, freq_pcts, min_len, max_len):\n",
    "    while True:\n",
    "        text = ''\n",
    "        while len(text) < min_len:\n",
    "            choiced = choice(words, freq_pcts).strip()\n",
    "            text = text + choiced\n",
    "        if len(text) <= max_len:\n",
    "            yield text"
   ]
  },
  {
   "cell_type": "code",
   "execution_count": 247,
   "metadata": {},
   "outputs": [],
   "source": [
    "def gen_texts(fid, gen_counts, gen_len, pure_words, word_freq_pcts):\n",
    "    random.seed(random.randint(1,100))\n",
    "    generator = next_text(pure_words, word_freq_pcts, min_len=gen_len, max_len=gen_len)\n",
    "    with open(outp_path  + '/{}_lens/{}.txt'.format(gen_len, fid), 'w') as f:\n",
    "        for _ in range(gen_counts):\n",
    "            f.write(next(generator) + '\\n')"
   ]
  },
  {
   "cell_type": "code",
   "execution_count": 248,
   "metadata": {},
   "outputs": [],
   "source": [
    "# gen_texts(fid = 0, gen_counts=10, gen_len=5, pure_words=jieba_pure_words, word_freq_pcts=jieba_word_freq_pcts)"
   ]
  },
  {
   "cell_type": "code",
   "execution_count": 249,
   "metadata": {},
   "outputs": [],
   "source": [
    "gen_counts = 10000\n",
    "gen_batches = 200\n",
    "for gen_len in [5, 10, 15]:\n",
    "    with ProcessPoolExecutor(max_workers=40) as ex:\n",
    "        func = partial(gen_texts, gen_counts=gen_counts, gen_len=gen_len,\n",
    "                       pure_words=jieba_pure_words,\n",
    "                       word_freq_pcts=jieba_word_freq_pcts)\n",
    "        for i in range(gen_batches):\n",
    "            ex.submit(func, i)"
   ]
  },
  {
   "cell_type": "code",
   "execution_count": 252,
   "metadata": {},
   "outputs": [
    {
     "ename": "NameError",
     "evalue": "name 'outp_path' is not defined",
     "output_type": "error",
     "traceback": [
      "\u001b[0;31m---------------------------------------------------------------------------\u001b[0m",
      "\u001b[0;31mNameError\u001b[0m                                 Traceback (most recent call last)",
      "\u001b[0;32m<ipython-input-252-4208382d97b9>\u001b[0m in \u001b[0;36m<module>\u001b[0;34m\u001b[0m\n\u001b[1;32m      4\u001b[0m \u001b[0;34m\u001b[0m\u001b[0m\n\u001b[1;32m      5\u001b[0m \u001b[0;32mfor\u001b[0m \u001b[0mgen_len\u001b[0m \u001b[0;32min\u001b[0m \u001b[0;34m[\u001b[0m\u001b[0;36m5\u001b[0m\u001b[0;34m,\u001b[0m \u001b[0;36m10\u001b[0m\u001b[0;34m,\u001b[0m \u001b[0;36m15\u001b[0m\u001b[0;34m]\u001b[0m\u001b[0;34m:\u001b[0m\u001b[0;34m\u001b[0m\u001b[0;34m\u001b[0m\u001b[0m\n\u001b[0;32m----> 6\u001b[0;31m     \u001b[0;32mfor\u001b[0m \u001b[0mp\u001b[0m \u001b[0;32min\u001b[0m \u001b[0;34m(\u001b[0m\u001b[0mPath\u001b[0m\u001b[0;34m(\u001b[0m\u001b[0moutp_path\u001b[0m\u001b[0;34m)\u001b[0m\u001b[0;34m/\u001b[0m\u001b[0;34m(\u001b[0m\u001b[0;34m'{}_lens'\u001b[0m\u001b[0;34m.\u001b[0m\u001b[0mformat\u001b[0m\u001b[0;34m(\u001b[0m\u001b[0mgen_len\u001b[0m\u001b[0;34m)\u001b[0m\u001b[0;34m)\u001b[0m\u001b[0;34m)\u001b[0m\u001b[0;34m.\u001b[0m\u001b[0mglob\u001b[0m\u001b[0;34m(\u001b[0m\u001b[0;34m'*'\u001b[0m\u001b[0;34m)\u001b[0m\u001b[0;34m:\u001b[0m\u001b[0;34m\u001b[0m\u001b[0;34m\u001b[0m\u001b[0m\n\u001b[0m\u001b[1;32m      7\u001b[0m         \u001b[0;32mwith\u001b[0m \u001b[0mopen\u001b[0m\u001b[0;34m(\u001b[0m\u001b[0mstr\u001b[0m\u001b[0;34m(\u001b[0m\u001b[0mp\u001b[0m\u001b[0;34m)\u001b[0m\u001b[0;34m,\u001b[0m \u001b[0;34m'r'\u001b[0m\u001b[0;34m)\u001b[0m \u001b[0;32mas\u001b[0m \u001b[0mf\u001b[0m\u001b[0;34m:\u001b[0m\u001b[0;34m\u001b[0m\u001b[0;34m\u001b[0m\u001b[0m\n\u001b[1;32m      8\u001b[0m             \u001b[0;32mfor\u001b[0m \u001b[0mline\u001b[0m \u001b[0;32min\u001b[0m \u001b[0mf\u001b[0m\u001b[0;34m.\u001b[0m\u001b[0mreadlines\u001b[0m\u001b[0;34m(\u001b[0m\u001b[0;34m)\u001b[0m\u001b[0;34m:\u001b[0m\u001b[0;34m\u001b[0m\u001b[0;34m\u001b[0m\u001b[0m\n",
      "\u001b[0;31mNameError\u001b[0m: name 'outp_path' is not defined"
     ]
    }
   ],
   "source": [
    "from pathlib import Path\n",
    "\n",
    "word_counter = set()\n",
    "\n",
    "for gen_len in [5, 10, 15]:\n",
    "    for p in (Path(outp_path)/('{}_lens'.format(gen_len))).glob('*'):\n",
    "        with open(str(p), 'r') as f:\n",
    "            for line in f.readlines():\n",
    "                word_counter.add(line.strip('\\n'))\n",
    "                \n",
    "char_counter = {c for w in word_counter for c in w}"
   ]
  },
  {
   "cell_type": "code",
   "execution_count": null,
   "metadata": {},
   "outputs": [],
   "source": []
  }
 ],
 "metadata": {
  "kernelspec": {
   "display_name": "Environment (conda_tensorflow)",
   "language": "python",
   "name": "conda_tensorflow"
  },
  "language_info": {
   "codemirror_mode": {
    "name": "ipython",
    "version": 3
   },
   "file_extension": ".py",
   "mimetype": "text/x-python",
   "name": "python",
   "nbconvert_exporter": "python",
   "pygments_lexer": "ipython3",
   "version": "3.6.7"
  },
  "nbTranslate": {
   "displayLangs": [
    "*"
   ],
   "hotkey": "alt-t",
   "langInMainMenu": true,
   "sourceLang": "en",
   "targetLang": "fr",
   "useGoogleTranslate": true
  },
  "toc": {
   "base_numbering": 1,
   "nav_menu": {},
   "number_sections": true,
   "sideBar": true,
   "skip_h1_title": false,
   "title_cell": "Table of Contents",
   "title_sidebar": "Contents",
   "toc_cell": false,
   "toc_position": {},
   "toc_section_display": true,
   "toc_window_display": false
  }
 },
 "nbformat": 4,
 "nbformat_minor": 2
}
