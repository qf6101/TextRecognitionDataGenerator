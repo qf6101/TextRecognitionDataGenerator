{
 "cells": [
  {
   "cell_type": "code",
   "execution_count": 1,
   "metadata": {},
   "outputs": [],
   "source": [
    "%load_ext autoreload\n",
    "%autoreload 2\n",
    "%matplotlib inline"
   ]
  },
  {
   "cell_type": "code",
   "execution_count": 2,
   "metadata": {},
   "outputs": [],
   "source": [
    "import sys\n",
    "from pathlib import Path\n",
    "import json\n",
    "import random\n",
    "import re\n",
    "import uuid\n",
    "import shutil\n",
    "import os\n",
    "from functools import partial\n",
    "from concurrent.futures import ProcessPoolExecutor, ThreadPoolExecutor\n",
    "\n",
    "random.seed()"
   ]
  },
  {
   "cell_type": "code",
   "execution_count": 3,
   "metadata": {},
   "outputs": [
    {
     "name": "stdout",
     "output_type": "stream",
     "text": [
      "/datadisk2/qfeng/TextRecognitionDataGenerator\n"
     ]
    },
    {
     "data": {
      "text/plain": [
       "'/datadisk2/qfeng/TextRecognitionDataGenerator'"
      ]
     },
     "execution_count": 3,
     "metadata": {},
     "output_type": "execute_result"
    }
   ],
   "source": [
    "project_path = '/datadisk2/qfeng/TextRecognitionDataGenerator'\n",
    "\n",
    "if project_path not in sys.path:\n",
    "    sys.path.append(project_path)\n",
    "    \n",
    "%cd $project_path\n",
    "%pwd"
   ]
  },
  {
   "cell_type": "markdown",
   "metadata": {},
   "source": [
    "**1. Set the parameters: input corpus directory and output image directory**"
   ]
  },
  {
   "cell_type": "code",
   "execution_count": 4,
   "metadata": {},
   "outputs": [],
   "source": [
    "inp_path = Path('/datadisk2/qfeng/ocr_synthesis/test_inp/')\n",
    "outp_path = Path('/datadisk2/qfeng/ocr_synthesis/test_outp/')\n",
    "\n",
    "if outp_path.exists():\n",
    "    shutil.rmtree(str(outp_path))\n",
    "outp_path.mkdir()"
   ]
  },
  {
   "cell_type": "code",
   "execution_count": 5,
   "metadata": {},
   "outputs": [],
   "source": [
    "long_letters_pattern = re.compile(r'[a-zA-Z]{3,}')\n",
    "unchinese_pattern = re.compile(r'[^\\u4e00-\\u9fa5\\s\\w]')\n",
    "html_pattern = re.compile(\n",
    "    r'(https?:\\/\\/(?:www\\.|(?!www))[a-zA-Z0-9][a-zA-Z0-9-]+[a-zA-Z0-9]\\.[^\\s]{2,}|www\\.[a-zA-Z0-9][a-zA-Z0-9-]+[a-zA-Z0-9]\\.[^\\s]{2,}|https?:\\/\\/(?:www\\.|(?!www))[a-zA-Z0-9]+\\.[^\\s]{2,}|www\\.[a-zA-Z0-9]+\\.[^\\s]{2,})'\n",
    ")\n",
    "other_url_pattern = re.compile(r'\\/\\/.*|[A-Za-z]:\\\\.*|[A-Za-z]:\\/.*')\n",
    "\n",
    "def find_chinese(inp):\n",
    "    outp = re.sub(long_letters_pattern, '', inp)\n",
    "    outp = re.sub(unchinese_pattern, '', outp)\n",
    "    return outp\n",
    "\n",
    "\n",
    "def cut_html_tags(inp):\n",
    "    return re.sub(html_pattern, '', inp)\n",
    "\n",
    "\n",
    "def cut_other_url_tags(inp):\n",
    "    return re.sub(other_url_pattern, '', inp)\n",
    "\n",
    "\n",
    "def cut_url_tags(inp):\n",
    "    outp = cut_html_tags(inp)\n",
    "    outp = cut_other_url_tags(outp)\n",
    "    return outp\n",
    "\n",
    "def cut_text(inp):\n",
    "    return find_chinese(cut_url_tags(inp))\n",
    "\n",
    "special_symbol = ['&', '：', '[', ']', '、', '（', '）', ':']\n",
    "\n",
    "def make_texts(inp, max_len, fix_len, symbol_rate):\n",
    "    \"\"\"\n",
    "    (1) If fix_len is False, output text is randomly generated with length\n",
    "    between 1 and max_len; (2) symbo_rate is between 0 and 1 which is the\n",
    "    rate of inserting a special symbol into the text.\n",
    "    \"\"\"\n",
    "    outp = []\n",
    "    buf = []\n",
    "    for i in inp:\n",
    "        buf.append(i)\n",
    "        \n",
    "        if symbol_rate > 0 and random.randint(0, int(1/symbol_rate)) == 0:\n",
    "            buf.append(special_symbol[random.randint(0, len(special_symbol)-1)])\n",
    "        \n",
    "        if (fix_len and len(buf) == max_len) or (not fix_len and random.randint(0, max_len) == 0):\n",
    "            outp.append(''.join(buf))\n",
    "            buf = []\n",
    "            \n",
    "    return outp\n",
    "\n",
    "def gen_texts(inp_path, filter_text=True, max_len=10, fix_len=True, symbol_rate=0):\n",
    "    generated = []\n",
    "    for fname in Path(inp_path).glob(\"*.txt\"):\n",
    "        with open(str(fname), 'r') as f:\n",
    "            lines = [line.strip('\\n') for line in f.readlines()]\n",
    "            \n",
    "            if filter_text:\n",
    "                lines = [cut_text(line) for line in lines]\n",
    "            for line in lines:\n",
    "                if len(line) > 0: generated.extend(make_texts(line, max_len, fix_len, symbol_rate))\n",
    "    return generated"
   ]
  },
  {
   "cell_type": "code",
   "execution_count": 6,
   "metadata": {},
   "outputs": [],
   "source": [
    "inp_texts = gen_texts(inp_path)"
   ]
  },
  {
   "cell_type": "code",
   "execution_count": 7,
   "metadata": {},
   "outputs": [
    {
     "name": "stdout",
     "output_type": "stream",
     "text": [
      "Missing modules for handwritten text generation.\n"
     ]
    }
   ],
   "source": [
    "from trdg.generators import CompoundGenerator\n",
    "from collections import namedtuple"
   ]
  },
  {
   "cell_type": "markdown",
   "metadata": {},
   "source": [
    "**2. Set the parameters: fix configurations**"
   ]
  },
  {
   "cell_type": "code",
   "execution_count": 8,
   "metadata": {},
   "outputs": [],
   "source": [
    "conf = namedtuple('Conf', ['width', 'background_type', 'fit', 'line_margin', 'skewing_angle', 'random_skew', 'box_skewing_angle', 'box_random_skew', 'size'])\n",
    "conf.size = 32\n",
    "conf.background_type = 1\n",
    "conf.fit = True\n",
    "conf.line_margin = 5\n",
    "conf.skewing_angle = 0\n",
    "conf.random_skew = True\n",
    "conf.box_skewing_angle = 3\n",
    "conf.box_random_skew = True"
   ]
  },
  {
   "cell_type": "code",
   "execution_count": 9,
   "metadata": {},
   "outputs": [],
   "source": [
    "generator = CompoundGenerator(conf=conf)"
   ]
  },
  {
   "cell_type": "markdown",
   "metadata": {},
   "source": [
    "**3. Set the parameters: random configurations**"
   ]
  },
  {
   "cell_type": "code",
   "execution_count": 10,
   "metadata": {},
   "outputs": [],
   "source": [
    "font_file = '/datadisk2/qfeng/TextRecognitionDataGenerator/trdg/fonts/cn/SimSun.ttf'\n",
    "font = Path(font_file).stem\n",
    "\n",
    "def gen_image(inp_texts):    \n",
    "    args = namedtuple('Args', ['font', 'texts', 'bold', 'box_margins', 'box_lines', 'alignment'])\n",
    "    n_texts = random.randint(1, 5)\n",
    "    args.texts = [inp_texts[random.randint(0, len(inp_texts))] for _ in range(n_texts)]   \n",
    "    args.font = font_file\n",
    "    args.bold = False\n",
    "    args.box_margins = (random.randint(16, 64), random.randint(16, 64))\n",
    "    args.box_lines = (random.randint(0, 1), random.randint(0, 1), random.randint(0, 1), random.randint(0, 1))\n",
    "    args.alignment = random.randint(0, 1)\n",
    "    args.draw_box = False\n",
    "    img, img_locs = generator.gen(args)\n",
    "    return img, img_locs, args.texts"
   ]
  },
  {
   "cell_type": "code",
   "execution_count": 11,
   "metadata": {},
   "outputs": [
    {
     "data": {
      "image/png": "[encoded data removed]",
      "text/plain": [
       "<PIL.Image.Image image mode=RGBA size=343x216 at 0x7FCFAB912048>"
      ]
     },
     "execution_count": 11,
     "metadata": {},
     "output_type": "execute_result"
    }
   ],
   "source": [
    "# Test generating one image\n",
    "img, img_locs, c = gen_image(inp_texts)\n",
    "img"
   ]
  },
  {
   "cell_type": "code",
   "execution_count": 12,
   "metadata": {},
   "outputs": [],
   "source": [
    "def save_generated(tag, inp_texts, size, font):\n",
    "    gt_dname = outp_path/(tag + '_gt')\n",
    "    img_dname = outp_path/(tag + '_img')\n",
    "   \n",
    "    if gt_dname.exists():\n",
    "        shutil.rmtree(str(gt_dname))\n",
    "    gt_dname.mkdir()\n",
    "        \n",
    "    if img_dname.exists():\n",
    "        shutil.rmtree(str(img_dname))\n",
    "    img_dname.mkdir()\n",
    "    \n",
    "    for _ in range(size):\n",
    "        img, img_locs, contents = gen_image(inp_texts)\n",
    "        name = str(uuid.uuid4())\n",
    "        img.save(str((img_dname/(name + '.png'))))\n",
    "        \n",
    "        with open(str(gt_dname/(name + '.txt')), 'w') as f:            \n",
    "            for c, loc in zip(contents, img_locs):\n",
    "                line = []\n",
    "                for i_ in loc:\n",
    "                    line.append(str(round(i_[0], 2)))\n",
    "                    line.append(str(round(i_[1], 2)))\n",
    "                line.append('\"' + c + '\"')\n",
    "                line.append(font)\n",
    "                f.write(','.join(line) + '\\n')\n",
    "                \n",
    "\n",
    "def parallel_save(tag, inp, n_splits, bs, font, n_workers):\n",
    "    \"\"\"\n",
    "    Will generate 2 * n_splits folders (half images and half labels).\n",
    "    Each folder has bs images or labels.\n",
    "    \"\"\"\n",
    "    with ProcessPoolExecutor(max_workers=n_workers) as ex:\n",
    "        func = partial(save_generated, size=bs, font=font)\n",
    "        step = len(inp)//n_splits\n",
    "        splits = list(range(0, len(inp), step))\n",
    "        for i in range(1, len(splits)):\n",
    "            print(splits[i-1], splits[i])\n",
    "            ex.submit(func, tag + '_' + str(i), inp[splits[i-1]:splits[i]])"
   ]
  },
  {
   "cell_type": "code",
   "execution_count": 13,
   "metadata": {},
   "outputs": [
    {
     "name": "stdout",
     "output_type": "stream",
     "text": [
      "0 7621\n",
      "7621 15242\n",
      "15242 22863\n",
      "22863 30484\n",
      "30484 38105\n",
      "38105 45726\n",
      "45726 53347\n",
      "53347 60968\n",
      "60968 68589\n",
      "68589 76210\n"
     ]
    }
   ],
   "source": [
    "parallel_save(tag='texts', inp=inp_texts, n_splits=10, bs=100, font=font, n_workers=40)"
   ]
  },
  {
   "cell_type": "code",
   "execution_count": null,
   "metadata": {},
   "outputs": [],
   "source": []
  },
  {
   "cell_type": "code",
   "execution_count": null,
   "metadata": {},
   "outputs": [],
   "source": []
  },
  {
   "cell_type": "code",
   "execution_count": null,
   "metadata": {},
   "outputs": [],
   "source": []
  }
 ],
 "metadata": {
  "kernelspec": {
   "display_name": "Environment (conda_tensorflow)",
   "language": "python",
   "name": "conda_tensorflow"
  },
  "language_info": {
   "codemirror_mode": {
    "name": "ipython",
    "version": 3
   },
   "file_extension": ".py",
   "mimetype": "text/x-python",
   "name": "python",
   "nbconvert_exporter": "python",
   "pygments_lexer": "ipython3",
   "version": "3.6.7"
  },
  "nbTranslate": {
   "displayLangs": [
    "*"
   ],
   "hotkey": "alt-t",
   "langInMainMenu": true,
   "sourceLang": "en",
   "targetLang": "fr",
   "useGoogleTranslate": true
  },
  "toc": {
   "base_numbering": 1.0,
   "nav_menu": {},
   "number_sections": true,
   "sideBar": true,
   "skip_h1_title": false,
   "title_cell": "Table of Contents",
   "title_sidebar": "Contents",
   "toc_cell": false,
   "toc_position": {},
   "toc_section_display": true,
   "toc_window_display": false
  }
 },
 "nbformat": 4,
 "nbformat_minor": 2
}
