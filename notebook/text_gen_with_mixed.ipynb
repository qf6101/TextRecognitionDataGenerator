{
 "cells": [
  {
   "cell_type": "code",
   "execution_count": 11,
   "metadata": {},
   "outputs": [
    {
     "name": "stdout",
     "output_type": "stream",
     "text": [
      "The autoreload extension is already loaded. To reload it, use:\n",
      "  %reload_ext autoreload\n"
     ]
    }
   ],
   "source": [
    "%load_ext autoreload\n",
    "%autoreload 2\n",
    "%matplotlib inline"
   ]
  },
  {
   "cell_type": "code",
   "execution_count": 18,
   "metadata": {},
   "outputs": [],
   "source": [
    "import sys\n",
    "from pathlib import Path\n",
    "import json\n",
    "import random\n",
    "import re\n",
    "import uuid\n",
    "import shutil\n",
    "import os\n",
    "from functools import partial\n",
    "from pathlib import Path\n",
    "import string\n",
    "from concurrent.futures import ProcessPoolExecutor, ThreadPoolExecutor\n",
    "\n",
    "random.seed()"
   ]
  },
  {
   "cell_type": "code",
   "execution_count": 64,
   "metadata": {},
   "outputs": [],
   "source": [
    "path = '/datadisk2/qfeng/ocr_synthesis/mixed_texts'"
   ]
  },
  {
   "cell_type": "markdown",
   "metadata": {},
   "source": [
    "**Load symbols**"
   ]
  },
  {
   "cell_type": "code",
   "execution_count": 65,
   "metadata": {},
   "outputs": [],
   "source": [
    "with open(os.path.join(path, '/datadisk2/qfeng/ocr_synthesis/external/symbols.txt'), 'r') as f:\n",
    "    symbols = [line.strip('\\n') for line in f.readlines()]"
   ]
  },
  {
   "cell_type": "code",
   "execution_count": 66,
   "metadata": {},
   "outputs": [],
   "source": [
    "n_symbols = len(symbols)"
   ]
  },
  {
   "cell_type": "markdown",
   "metadata": {},
   "source": [
    "**Load Chinese chars**"
   ]
  },
  {
   "cell_type": "code",
   "execution_count": 67,
   "metadata": {},
   "outputs": [],
   "source": [
    "with open('/datadisk2/qfeng/ocr_synthesis/external/common_cn_chars.txt', 'r') as f:\n",
    "    cn_letters = [line.strip('\\n') for line in f.readlines()]\n",
    "n_cn_letters = len(cn_letters)"
   ]
  },
  {
   "cell_type": "markdown",
   "metadata": {},
   "source": [
    "**Load English letters**"
   ]
  },
  {
   "cell_type": "code",
   "execution_count": 68,
   "metadata": {},
   "outputs": [],
   "source": [
    "en_lower_letters = string.ascii_lowercase\n",
    "en_upper_letters = string.ascii_uppercase\n",
    "en_letters = en_lower_letters + en_upper_letters\n",
    "n_letters = len(en_letters)"
   ]
  },
  {
   "cell_type": "code",
   "execution_count": 69,
   "metadata": {},
   "outputs": [
    {
     "data": {
      "text/plain": [
       "'abcdefghijklmnopqrstuvwxyzABCDEFGHIJKLMNOPQRSTUVWXYZ'"
      ]
     },
     "execution_count": 69,
     "metadata": {},
     "output_type": "execute_result"
    }
   ],
   "source": [
    "en_letters"
   ]
  },
  {
   "cell_type": "markdown",
   "metadata": {},
   "source": [
    "**Load Numbers**"
   ]
  },
  {
   "cell_type": "code",
   "execution_count": 70,
   "metadata": {},
   "outputs": [],
   "source": [
    "numbers = '0123456789'\n",
    "n_numbers = len(numbers)"
   ]
  },
  {
   "cell_type": "markdown",
   "metadata": {},
   "source": [
    "**Mix English letter and symbol**"
   ]
  },
  {
   "cell_type": "code",
   "execution_count": 71,
   "metadata": {},
   "outputs": [],
   "source": [
    "with open(os.path.join(path, 'english_and_symbol.txt'), 'w') as f:\n",
    "    for _ in range(5000):\n",
    "        text = ''\n",
    "        for _ in range(random.randint(3, 10)):\n",
    "            if random.randint(0, 10) == 0:\n",
    "                symbol_choiced = random.randint(0, n_symbols-1)\n",
    "                char = symbols[symbol_choiced]\n",
    "            else:\n",
    "                en_choiced = random.randint(0, n_letters-1)\n",
    "                char = en_letters[en_choiced]\n",
    "            text = text + char\n",
    "            \n",
    "        f.write(text + '\\n')        "
   ]
  },
  {
   "cell_type": "markdown",
   "metadata": {},
   "source": [
    "**Mix Chinese and symbol**"
   ]
  },
  {
   "cell_type": "code",
   "execution_count": 72,
   "metadata": {},
   "outputs": [],
   "source": [
    "with open(os.path.join(path, 'chinese_and_symbol.txt'), 'w') as f:\n",
    "    for _ in range(10000):\n",
    "        text = ''\n",
    "        for _ in range(random.randint(3, 10)):\n",
    "            if random.randint(0, 10) == 0:\n",
    "                symbol_choiced = random.randint(0, n_symbols-1)\n",
    "                char = symbols[symbol_choiced]\n",
    "            else:\n",
    "                cn_char_choiced = random.randint(0, n_cn_letters-1)\n",
    "                char = cn_letters[cn_char_choiced]\n",
    "            text = text + char\n",
    "            \n",
    "        f.write(text + '\\n')       "
   ]
  },
  {
   "cell_type": "markdown",
   "metadata": {},
   "source": [
    "**Mix number and symbol**"
   ]
  },
  {
   "cell_type": "code",
   "execution_count": 73,
   "metadata": {},
   "outputs": [],
   "source": [
    "with open(os.path.join(path, 'number_and_symbol.txt'), 'w') as f:\n",
    "    for _ in range(10000):\n",
    "        text = ''\n",
    "        for _ in range(random.randint(3, 10)):\n",
    "            if random.randint(0, 10) == 0:\n",
    "                symbol_choiced = random.randint(0, n_symbols-1)\n",
    "                char = symbols[symbol_choiced]\n",
    "            else:\n",
    "                number_choiced = random.randint(0, n_numbers-1)\n",
    "                char = numbers[number_choiced]\n",
    "            text = text + char\n",
    "            \n",
    "        f.write(text + '\\n')   "
   ]
  },
  {
   "cell_type": "markdown",
   "metadata": {},
   "source": [
    "**Mix English and number**"
   ]
  },
  {
   "cell_type": "code",
   "execution_count": 74,
   "metadata": {},
   "outputs": [],
   "source": [
    "with open(os.path.join(path, 'english_and_number.txt'), 'w') as f:\n",
    "    for _ in range(10000):\n",
    "        text = ''\n",
    "        for _ in range(random.randint(3, 10)):\n",
    "            if random.randint(0, 4) == 0:\n",
    "                number_choiced = random.randint(0, n_numbers-1)\n",
    "                char = numbers[number_choiced]\n",
    "            else:\n",
    "                en_choiced = random.randint(0, n_letters-1)\n",
    "                char = en_letters[en_choiced]\n",
    "            text = text + char\n",
    "            \n",
    "        f.write(text + '\\n')   "
   ]
  },
  {
   "cell_type": "markdown",
   "metadata": {},
   "source": [
    "**Mix English and Chinese**"
   ]
  },
  {
   "cell_type": "code",
   "execution_count": 75,
   "metadata": {},
   "outputs": [],
   "source": [
    "with open(os.path.join(path, 'english_and_chinese.txt'), 'w') as f:\n",
    "    for _ in range(10000):\n",
    "        text = ''\n",
    "        for _ in range(random.randint(3, 10)):\n",
    "            if random.randint(0, 1) == 0:\n",
    "                cn_char_choiced = random.randint(0, n_cn_letters-1)\n",
    "                char = cn_letters[cn_char_choiced]\n",
    "            else:\n",
    "                en_choiced = random.randint(0, n_letters-1)\n",
    "                char = en_letters[en_choiced]\n",
    "            text = text + char\n",
    "            \n",
    "        f.write(text + '\\n')   "
   ]
  },
  {
   "cell_type": "markdown",
   "metadata": {},
   "source": [
    "**Mix number and Chinese**"
   ]
  },
  {
   "cell_type": "code",
   "execution_count": 76,
   "metadata": {},
   "outputs": [],
   "source": [
    "with open(os.path.join(path, 'chinese_and_number.txt'), 'w') as f:\n",
    "    for _ in range(10000):\n",
    "        text = ''\n",
    "        for _ in range(random.randint(3, 10)):\n",
    "            if random.randint(0, 4) == 0:\n",
    "                number_choiced = random.randint(0, n_numbers-1)\n",
    "                char = numbers[number_choiced]\n",
    "            else:\n",
    "                cn_char_choiced = random.randint(0, n_cn_letters-1)\n",
    "                char = cn_letters[cn_char_choiced]\n",
    "            text = text + char\n",
    "            \n",
    "        f.write(text + '\\n')   "
   ]
  },
  {
   "cell_type": "markdown",
   "metadata": {},
   "source": [
    "**Mix number, Chinese and English**"
   ]
  },
  {
   "cell_type": "code",
   "execution_count": 77,
   "metadata": {},
   "outputs": [],
   "source": [
    "with open(os.path.join(path, 'chinese_english_and_number.txt'), 'w') as f:\n",
    "    for _ in range(10000):\n",
    "        text = ''\n",
    "        for _ in range(random.randint(3, 10)):\n",
    "            if random.randint(0, 4) == 0:\n",
    "                number_choiced = random.randint(0, n_numbers-1)\n",
    "                char = numbers[number_choiced]\n",
    "            elif random.randint(0, 1) == 0:\n",
    "                cn_char_choiced = random.randint(0, n_cn_letters-1)\n",
    "                char = cn_letters[cn_char_choiced]\n",
    "            else:\n",
    "                en_choiced = random.randint(0, n_letters-1)\n",
    "                char = en_letters[en_choiced]\n",
    "            text = text + char\n",
    "            \n",
    "        f.write(text + '\\n')  "
   ]
  },
  {
   "cell_type": "code",
   "execution_count": null,
   "metadata": {},
   "outputs": [],
   "source": []
  },
  {
   "cell_type": "code",
   "execution_count": null,
   "metadata": {},
   "outputs": [],
   "source": []
  }
 ],
 "metadata": {
  "kernelspec": {
   "display_name": "Environment (conda_tensorflow)",
   "language": "python",
   "name": "conda_tensorflow"
  },
  "language_info": {
   "codemirror_mode": {
    "name": "ipython",
    "version": 3
   },
   "file_extension": ".py",
   "mimetype": "text/x-python",
   "name": "python",
   "nbconvert_exporter": "python",
   "pygments_lexer": "ipython3",
   "version": "3.6.7"
  },
  "nbTranslate": {
   "displayLangs": [
    "*"
   ],
   "hotkey": "alt-t",
   "langInMainMenu": true,
   "sourceLang": "en",
   "targetLang": "fr",
   "useGoogleTranslate": true
  },
  "toc": {
   "base_numbering": 1,
   "nav_menu": {},
   "number_sections": true,
   "sideBar": true,
   "skip_h1_title": false,
   "title_cell": "Table of Contents",
   "title_sidebar": "Contents",
   "toc_cell": false,
   "toc_position": {},
   "toc_section_display": true,
   "toc_window_display": false
  }
 },
 "nbformat": 4,
 "nbformat_minor": 2
}
